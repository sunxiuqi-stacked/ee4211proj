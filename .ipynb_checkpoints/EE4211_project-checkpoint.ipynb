{
 "cells": [
  {
   "cell_type": "code",
   "execution_count": 1,
   "id": "ac607d95",
   "metadata": {},
   "outputs": [],
   "source": [
    "import pandas as pd\n",
    "import numpy as np"
   ]
  },
  {
   "cell_type": "code",
   "execution_count": 94,
   "id": "96a42973",
   "metadata": {
    "scrolled": true
   },
   "outputs": [
    {
     "data": {
      "text/html": [
       "<div>\n",
       "<style scoped>\n",
       "    .dataframe tbody tr th:only-of-type {\n",
       "        vertical-align: middle;\n",
       "    }\n",
       "\n",
       "    .dataframe tbody tr th {\n",
       "        vertical-align: top;\n",
       "    }\n",
       "\n",
       "    .dataframe thead th {\n",
       "        text-align: right;\n",
       "    }\n",
       "</style>\n",
       "<table border=\"1\" class=\"dataframe\">\n",
       "  <thead>\n",
       "    <tr style=\"text-align: right;\">\n",
       "      <th></th>\n",
       "      <th>localminute</th>\n",
       "      <th>dataid</th>\n",
       "      <th>meter_value</th>\n",
       "    </tr>\n",
       "  </thead>\n",
       "  <tbody>\n",
       "    <tr>\n",
       "      <th>1584818</th>\n",
       "      <td>2016-03-31 23:59:14.336743-05</td>\n",
       "      <td>2129</td>\n",
       "      <td>201726</td>\n",
       "    </tr>\n",
       "    <tr>\n",
       "      <th>1584819</th>\n",
       "      <td>2016-03-31 23:59:17.427165-05</td>\n",
       "      <td>2945</td>\n",
       "      <td>161232</td>\n",
       "    </tr>\n",
       "    <tr>\n",
       "      <th>1584820</th>\n",
       "      <td>2016-03-31 23:59:35.370782-05</td>\n",
       "      <td>9729</td>\n",
       "      <td>138146</td>\n",
       "    </tr>\n",
       "    <tr>\n",
       "      <th>1584821</th>\n",
       "      <td>2016-03-31 23:59:47.816286-05</td>\n",
       "      <td>5129</td>\n",
       "      <td>166488</td>\n",
       "    </tr>\n",
       "    <tr>\n",
       "      <th>1584822</th>\n",
       "      <td>2016-03-31 23:59:58.92308-05</td>\n",
       "      <td>484</td>\n",
       "      <td>114174</td>\n",
       "    </tr>\n",
       "  </tbody>\n",
       "</table>\n",
       "</div>"
      ],
      "text/plain": [
       "                           localminute  dataid  meter_value\n",
       "1584818  2016-03-31 23:59:14.336743-05    2129       201726\n",
       "1584819  2016-03-31 23:59:17.427165-05    2945       161232\n",
       "1584820  2016-03-31 23:59:35.370782-05    9729       138146\n",
       "1584821  2016-03-31 23:59:47.816286-05    5129       166488\n",
       "1584822   2016-03-31 23:59:58.92308-05     484       114174"
      ]
     },
     "execution_count": 94,
     "metadata": {},
     "output_type": "execute_result"
    }
   ],
   "source": [
    "df = pd.read_csv(\"dataport-export_gas_oct2015-mar2016.csv\")\n",
    "df.tail()"
   ]
  },
  {
   "cell_type": "code",
   "execution_count": 139,
   "id": "deb1ab98",
   "metadata": {},
   "outputs": [],
   "source": [
    "time_df = df.copy()\n",
    "time_df.localminute = time_df.localminute.transform(lambda x: x[0:-3])\n",
    "time_df.localminute = time_df.localminute.transform(lambda x: pd.Timestamp(x).value)"
   ]
  },
  {
   "cell_type": "code",
   "execution_count": 117,
   "id": "4dcb705b",
   "metadata": {
    "scrolled": true
   },
   "outputs": [
    {
     "data": {
      "text/plain": [
       "'The number of households is 157'"
      ]
     },
     "metadata": {},
     "output_type": "display_data"
    }
   ],
   "source": [
    "#Each household should only have 1 meter, and thus 1 meter id per household. Finding num households\n",
    "num_households = len(df[\"dataid\"].unique())\n",
    "display(\"The number of households is %s\" %num_households)"
   ]
  },
  {
   "cell_type": "code",
   "execution_count": 4,
   "id": "6ee538ed",
   "metadata": {},
   "outputs": [
    {
     "data": {
      "text/plain": [
       "43"
      ]
     },
     "execution_count": 4,
     "metadata": {},
     "output_type": "execute_result"
    }
   ],
   "source": [
    "#Fault occurs when cumulative readings go down\n",
    "house_hold_ids = df[\"dataid\"].unique()\n",
    "faulty = []\n",
    "for household in house_hold_ids:\n",
    "    household_df = df[df[\"dataid\"] == household]\n",
    "    household_df.sort_values(by=\"localminute\")\n",
    "    if not household_df[\"meter_value\"].is_monotonic:\n",
    "        faulty.append(household)\n",
    "len(faulty)"
   ]
  },
  {
   "cell_type": "code",
   "execution_count": 34,
   "id": "f7abfbfc",
   "metadata": {},
   "outputs": [],
   "source": [
    "fault_timings = dict((key,[]) for key in faulty)\n",
    "for faulty_meter in faulty:\n",
    "    household_df = df[df[\"dataid\"] == faulty_meter]\n",
    "    x = household_df[\"meter_value\"].to_numpy()\n",
    "    xy = np.ediff1d(x)\n",
    "    y = np.where(xy<0)\n",
    "    y = [i+1 for i in y[0]]\n",
    "    fault_timings[faulty_meter] = y"
   ]
  },
  {
   "cell_type": "code",
   "execution_count": 146,
   "id": "9007ea9b",
   "metadata": {},
   "outputs": [],
   "source": [
    "from scipy import interpolate\n",
    "from scipy import stats\n",
    "def get_correlation(a, b):\n",
    "    timea,timeb = a.localminute, b.localminute\n",
    "    start_time = max(timea.iloc[0],timeb.iloc[0])\n",
    "    end_time = min(timea.iloc[-1],timeb.iloc[-1])\n",
    "    time_series = np.linspace(start_time, end_time, max(len(a),len(b)))\n",
    "    a_interp = interpolate.interp1d(timea,a.meter_value,fill_value=\"extrapolate\")\n",
    "    b_interp = interpolate.interp1d(timeb,b.meter_value,fill_value=\"extrapolate\")\n",
    "    a_new = a_interp(time_series)\n",
    "    b_new = b_interp(time_series)\n",
    "    return stats.pearsonr(a_new,b_new)"
   ]
  },
  {
   "cell_type": "code",
   "execution_count": 147,
   "id": "4115d910",
   "metadata": {},
   "outputs": [
    {
     "name": "stdout",
     "output_type": "stream",
     "text": [
      "0\n",
      "1\n",
      "2\n",
      "3\n",
      "4\n",
      "5\n",
      "6\n",
      "7\n",
      "8\n",
      "9\n",
      "10\n",
      "11\n",
      "12\n",
      "13\n",
      "14\n",
      "15\n",
      "16\n",
      "17\n",
      "18\n",
      "19\n",
      "20\n"
     ]
    },
    {
     "name": "stderr",
     "output_type": "stream",
     "text": [
      "/home/weiern/anaconda3/lib/python3.8/site-packages/scipy/stats/stats.py:3913: PearsonRConstantInputWarning: An input array is constant; the correlation coefficent is not defined.\n",
      "  warnings.warn(PearsonRConstantInputWarning())\n",
      "/home/weiern/anaconda3/lib/python3.8/site-packages/scipy/stats/stats.py:3913: PearsonRConstantInputWarning: An input array is constant; the correlation coefficent is not defined.\n",
      "  warnings.warn(PearsonRConstantInputWarning())\n",
      "/home/weiern/anaconda3/lib/python3.8/site-packages/scipy/stats/stats.py:3913: PearsonRConstantInputWarning: An input array is constant; the correlation coefficent is not defined.\n",
      "  warnings.warn(PearsonRConstantInputWarning())\n",
      "/home/weiern/anaconda3/lib/python3.8/site-packages/scipy/stats/stats.py:3913: PearsonRConstantInputWarning: An input array is constant; the correlation coefficent is not defined.\n",
      "  warnings.warn(PearsonRConstantInputWarning())\n",
      "/home/weiern/anaconda3/lib/python3.8/site-packages/scipy/stats/stats.py:3913: PearsonRConstantInputWarning: An input array is constant; the correlation coefficent is not defined.\n",
      "  warnings.warn(PearsonRConstantInputWarning())\n",
      "/home/weiern/anaconda3/lib/python3.8/site-packages/scipy/stats/stats.py:3913: PearsonRConstantInputWarning: An input array is constant; the correlation coefficent is not defined.\n",
      "  warnings.warn(PearsonRConstantInputWarning())\n",
      "/home/weiern/anaconda3/lib/python3.8/site-packages/scipy/stats/stats.py:3913: PearsonRConstantInputWarning: An input array is constant; the correlation coefficent is not defined.\n",
      "  warnings.warn(PearsonRConstantInputWarning())\n",
      "/home/weiern/anaconda3/lib/python3.8/site-packages/scipy/stats/stats.py:3913: PearsonRConstantInputWarning: An input array is constant; the correlation coefficent is not defined.\n",
      "  warnings.warn(PearsonRConstantInputWarning())\n",
      "/home/weiern/anaconda3/lib/python3.8/site-packages/scipy/stats/stats.py:3913: PearsonRConstantInputWarning: An input array is constant; the correlation coefficent is not defined.\n",
      "  warnings.warn(PearsonRConstantInputWarning())\n",
      "/home/weiern/anaconda3/lib/python3.8/site-packages/scipy/stats/stats.py:3913: PearsonRConstantInputWarning: An input array is constant; the correlation coefficent is not defined.\n",
      "  warnings.warn(PearsonRConstantInputWarning())\n"
     ]
    },
    {
     "name": "stdout",
     "output_type": "stream",
     "text": [
      "21\n",
      "22\n",
      "23\n",
      "24\n",
      "25\n",
      "26\n",
      "27\n",
      "28\n",
      "29\n",
      "30\n",
      "31\n",
      "32\n",
      "33\n",
      "34\n",
      "35\n",
      "36\n",
      "37\n",
      "38\n",
      "39\n",
      "40\n",
      "41\n",
      "42\n",
      "43\n",
      "44\n",
      "45\n",
      "46\n",
      "47\n",
      "48\n",
      "49\n",
      "50\n",
      "51\n",
      "52\n",
      "53\n",
      "54\n",
      "55\n",
      "56\n",
      "57\n",
      "58\n",
      "59\n",
      "60\n",
      "61\n",
      "62\n",
      "63\n",
      "64\n",
      "65\n",
      "66\n",
      "67\n",
      "68\n",
      "69\n",
      "70\n",
      "71\n",
      "72\n",
      "73\n",
      "74\n",
      "75\n",
      "76\n",
      "77\n",
      "78\n",
      "79\n",
      "80\n",
      "81\n",
      "82\n",
      "83\n",
      "84\n",
      "85\n",
      "86\n",
      "87\n",
      "88\n",
      "89\n",
      "90\n",
      "91\n",
      "92\n",
      "93\n",
      "94\n",
      "95\n",
      "96\n",
      "97\n",
      "98\n",
      "99\n",
      "100\n",
      "101\n",
      "102\n",
      "103\n",
      "104\n",
      "105\n",
      "106\n",
      "107\n",
      "108\n",
      "109\n",
      "110\n",
      "111\n",
      "112\n",
      "113\n",
      "114\n",
      "115\n",
      "116\n",
      "117\n",
      "118\n",
      "119\n",
      "120\n",
      "121\n",
      "122\n",
      "123\n",
      "124\n",
      "125\n",
      "126\n",
      "127\n",
      "128\n",
      "129\n",
      "130\n",
      "131\n",
      "132\n",
      "133\n",
      "134\n",
      "135\n",
      "136\n",
      "137\n",
      "138\n"
     ]
    },
    {
     "name": "stderr",
     "output_type": "stream",
     "text": [
      "/home/weiern/anaconda3/lib/python3.8/site-packages/scipy/stats/stats.py:3913: PearsonRConstantInputWarning: An input array is constant; the correlation coefficent is not defined.\n",
      "  warnings.warn(PearsonRConstantInputWarning())\n",
      "/home/weiern/anaconda3/lib/python3.8/site-packages/scipy/stats/stats.py:3913: PearsonRConstantInputWarning: An input array is constant; the correlation coefficent is not defined.\n",
      "  warnings.warn(PearsonRConstantInputWarning())\n",
      "/home/weiern/anaconda3/lib/python3.8/site-packages/scipy/stats/stats.py:3913: PearsonRConstantInputWarning: An input array is constant; the correlation coefficent is not defined.\n",
      "  warnings.warn(PearsonRConstantInputWarning())\n",
      "/home/weiern/anaconda3/lib/python3.8/site-packages/scipy/stats/stats.py:3913: PearsonRConstantInputWarning: An input array is constant; the correlation coefficent is not defined.\n",
      "  warnings.warn(PearsonRConstantInputWarning())\n",
      "/home/weiern/anaconda3/lib/python3.8/site-packages/scipy/stats/stats.py:3913: PearsonRConstantInputWarning: An input array is constant; the correlation coefficent is not defined.\n",
      "  warnings.warn(PearsonRConstantInputWarning())\n",
      "/home/weiern/anaconda3/lib/python3.8/site-packages/scipy/stats/stats.py:3913: PearsonRConstantInputWarning: An input array is constant; the correlation coefficent is not defined.\n",
      "  warnings.warn(PearsonRConstantInputWarning())\n",
      "/home/weiern/anaconda3/lib/python3.8/site-packages/scipy/stats/stats.py:3913: PearsonRConstantInputWarning: An input array is constant; the correlation coefficent is not defined.\n",
      "  warnings.warn(PearsonRConstantInputWarning())\n",
      "/home/weiern/anaconda3/lib/python3.8/site-packages/scipy/stats/stats.py:3913: PearsonRConstantInputWarning: An input array is constant; the correlation coefficent is not defined.\n",
      "  warnings.warn(PearsonRConstantInputWarning())\n",
      "/home/weiern/anaconda3/lib/python3.8/site-packages/scipy/stats/stats.py:3913: PearsonRConstantInputWarning: An input array is constant; the correlation coefficent is not defined.\n",
      "  warnings.warn(PearsonRConstantInputWarning())\n"
     ]
    },
    {
     "name": "stdout",
     "output_type": "stream",
     "text": [
      "139\n",
      "140\n",
      "141\n",
      "142\n",
      "143\n",
      "144\n",
      "145\n",
      "146\n",
      "147\n",
      "148\n",
      "149\n",
      "150\n"
     ]
    },
    {
     "name": "stderr",
     "output_type": "stream",
     "text": [
      "/home/weiern/anaconda3/lib/python3.8/site-packages/scipy/stats/stats.py:3913: PearsonRConstantInputWarning: An input array is constant; the correlation coefficent is not defined.\n",
      "  warnings.warn(PearsonRConstantInputWarning())\n",
      "/home/weiern/anaconda3/lib/python3.8/site-packages/scipy/stats/stats.py:3913: PearsonRConstantInputWarning: An input array is constant; the correlation coefficent is not defined.\n",
      "  warnings.warn(PearsonRConstantInputWarning())\n"
     ]
    },
    {
     "name": "stdout",
     "output_type": "stream",
     "text": [
      "151\n",
      "152\n",
      "153\n",
      "154\n",
      "155\n",
      "156\n"
     ]
    }
   ],
   "source": [
    "households = df[\"dataid\"].unique()\n",
    "correlation_df = pd.DataFrame(columns=households, index = households)\n",
    "for i in range(num_households):\n",
    "    base_household = time_df[time_df.dataid == households[i]]\n",
    "    print(i)\n",
    "    for j in range(i+1,num_households):\n",
    "        comparison_household = time_df[time_df.dataid == households[j]]\n",
    "        corr, _ = get_correlation(base_household,comparison_household)\n",
    "        correlation_df.loc[households[i],households[j]] = corr\n",
    "        correlation_df.loc[households[j],households[i]] = corr"
   ]
  },
  {
   "cell_type": "code",
   "execution_count": 172,
   "id": "31f83bbf",
   "metadata": {},
   "outputs": [],
   "source": [
    "correlation_df = correlation_df.astype(\"float64\")\n",
    "top5_correlations = pd.DataFrame(index=households, columns=[1,2,3,4,5])\n",
    "for household in households:\n",
    "    top5_correlations.loc[household] = correlation_df.nlargest(5,household).index.to_list()"
   ]
  },
  {
   "cell_type": "code",
   "execution_count": 177,
   "id": "4232a6c0",
   "metadata": {},
   "outputs": [],
   "source": [
    "top5_correlations.to_csv(\"cor.csv\")"
   ]
  }
 ],
 "metadata": {
  "kernelspec": {
   "display_name": "Python 3",
   "language": "python",
   "name": "python3"
  },
  "language_info": {
   "codemirror_mode": {
    "name": "ipython",
    "version": 3
   },
   "file_extension": ".py",
   "mimetype": "text/x-python",
   "name": "python",
   "nbconvert_exporter": "python",
   "pygments_lexer": "ipython3",
   "version": "3.8.8"
  }
 },
 "nbformat": 4,
 "nbformat_minor": 5
}
